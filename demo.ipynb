{
 "cells": [
  {
   "cell_type": "code",
   "execution_count": 1,
   "metadata": {
    "id": "1zH3z99DdpMn"
   },
   "outputs": [],
   "source": [
    "%load_ext autoreload\n",
    "%autoreload 2"
   ]
  },
  {
   "cell_type": "code",
   "execution_count": 2,
   "metadata": {
    "id": "uofC2Sg5dpMo"
   },
   "outputs": [],
   "source": [
    "import numpy as np\n",
    "import matplotlib.pyplot as plt\n",
    "from LPSolver import LPSolver\n",
    "from QPSolver import QPSolver\n",
    "from SOCPSolver import SOCPSolver\n",
    "from LassoSolver import LassoSolver\n",
    "import cvxpy as cp"
   ]
  },
  {
   "cell_type": "code",
   "execution_count": 60,
   "metadata": {
    "id": "04Mn5K9tdpMo"
   },
   "outputs": [],
   "source": [
    "rng = np.random.default_rng(10)"
   ]
  },
  {
   "cell_type": "markdown",
   "metadata": {
    "id": "sfx96ozadpMp"
   },
   "source": [
    "### Generate a feasible problem instance"
   ]
  },
  {
   "cell_type": "code",
   "execution_count": 61,
   "metadata": {
    "id": "fxBx8mVJdpMq"
   },
   "outputs": [],
   "source": [
    "m = 80  # number of equality constraints -- keep lower than number of variables to ensure there are multiple solutions to the problem\n",
    "n = 100  # number of variables\n",
    "\n",
    "A = rng.normal(size = (m,n))\n",
    "\n",
    "random_row_index = np.random.choice(m)\n",
    "\n",
    "# Set all entries in the selected row to their absolute values\n",
    "A[random_row_index, :] = np.abs(A[random_row_index, :])\n",
    "\n",
    "b = A@np.abs(rng.normal(size = (n,)))\n",
    "c = rng.normal(size = (n,))"
   ]
  },
  {
   "cell_type": "markdown",
   "metadata": {
    "id": "WF8SbBE5dpMq"
   },
   "source": [
    "### Create a LPSolver object"
   ]
  },
  {
   "cell_type": "markdown",
   "metadata": {
    "id": "QdgQG5cfdpMq"
   },
   "source": [
    "Can specify use_gpu = True if you want to run with a GPU. GPU solver typically starts to surpass performance of CPU solver ~500 variables (depending on system)"
   ]
  },
  {
   "cell_type": "markdown",
   "metadata": {
    "id": "S3tHWDxydpMr"
   },
   "source": [
    "Also able to make multiple instances of this object to compare different hyperparameters"
   ]
  },
  {
   "cell_type": "code",
   "execution_count": 89,
   "metadata": {
    "id": "2NKG6JwndpMr"
   },
   "outputs": [
    {
     "name": "stdout",
     "output_type": "stream",
     "text": [
      "Not able to run with GPU\n",
      "Testing CVXPY\n"
     ]
    }
   ],
   "source": [
    "\"\"\"\"Initialize LP problem of form:\n",
    "        Minimize c^T x\n",
    "        Subject to Ax == b\n",
    "                   Cx <= d\n",
    "                   lower_bound <= x <= upper_bound\n",
    "\n",
    "Can leave A, b, C, d, and c as None or specify matrices/vectors to constrain the problem\n",
    "\"\"\"\n",
    "\n",
    "ls= LPSolver(c=c,\n",
    "        A=A,\n",
    "        b=b,\n",
    "        C=None,\n",
    "        d=None,\n",
    "        use_gpu=False,\n",
    "        upper_bound=3,\n",
    "        lower_bound=0,\n",
    "        update_slacks_every=5,\n",
    "        suppress_print=False)\n"
   ]
  },
  {
   "cell_type": "markdown",
   "metadata": {
    "id": "sPZcznzIdpMs"
   },
   "source": [
    "#### Compare LPSolver solution to the CVXPY solution\n",
    "Check the ls.value parameter if you want to extract the value of the solution, use ls.xstar to get the minimizer"
   ]
  },
  {
   "cell_type": "code",
   "execution_count": 90,
   "metadata": {
    "id": "AlXgX0_QdpMs",
    "outputId": "4a8d4318-33f1-4966-c579-dba71135cf34"
   },
   "outputs": [
    {
     "name": "stdout",
     "output_type": "stream",
     "text": [
      "proceeding to solve method\n",
      "Objective value is now -7.821270181214127\n",
      "Objective value is now -9.056109597164873\n",
      "Objective value is now -13.795599994280783\n",
      "Objective value is now -14.648400867663327\n",
      "Objective value is now -14.705223388749173\n",
      "Backtracking search got stuck, returning from Newton's method now...\n",
      "Objective value is now -14.708923873448619\n",
      "Backtracking search got stuck, returning from Newton's method now...\n",
      "Objective value is now -14.70916981482835\n",
      "Backtracking search got stuck, returning from Newton's method now...\n",
      "Objective value is now -14.709185929948589\n",
      "Backtracking search got stuck, returning from Newton's method now...\n",
      "Objective value is now -14.709209564370934\n",
      "REACHED MAX ITERATIONS: Problem likely infeasible or unbounded (Likely infeasible)\n",
      "Objective value is now -14.709133349083984\n",
      "Reached max Newton steps during 10th centering step (t=3844335937.5)\n",
      "Backtracking search got stuck, returning from Newton's method now...\n",
      "Newton step at iteration 11 did not converge\n",
      "Backtracking search got stuck, returning from Newton's method now...\n",
      "Newton step at iteration 12 did not converge\n",
      "REACHED MAX ITERATIONS: Problem likely infeasible or unbounded (Likely infeasible)\n",
      "Newton step at iteration 13 did not converge\n",
      "Reached max Newton steps during 13th centering step (t=12974633789062.5)\n"
     ]
    },
    {
     "data": {
      "text/plain": [
       "-2.2267986357960012e-05"
      ]
     },
     "execution_count": 90,
     "metadata": {},
     "output_type": "execute_result"
    }
   ],
   "source": [
    "ls.solve(track_loss=True) - ls.cvxpy_val"
   ]
  },
  {
   "cell_type": "code",
   "execution_count": 91,
   "metadata": {},
   "outputs": [
    {
     "data": {
      "text/plain": [
       "<Axes: title={'center': 'Convergence of LPSolver'}, xlabel='Cumulative Newton iterations', ylabel='Optimality gap'>"
      ]
     },
     "execution_count": 91,
     "metadata": {},
     "output_type": "execute_result"
    },
    {
     "data": {
      "image/png": "[encoded data removed]",
      "text/plain": [
       "<Figure size 640x480 with 1 Axes>"
      ]
     },
     "metadata": {},
     "output_type": "display_data"
    }
   ],
   "source": [
    "ls.plot() # the algorithm quit once the objective value stopped decreasing (which may happen in equality constrained problems)"
   ]
  },
  {
   "cell_type": "markdown",
   "metadata": {
    "id": "xMYz9WmKdpMt"
   },
   "source": [
    "### Benchmark LPSolver times vs. CVXPY\n",
    "Can also generate multiple instances of LP to benchmark times of different hyperparameters"
   ]
  },
  {
   "cell_type": "code",
   "execution_count": null,
   "metadata": {
    "id": "YNoiYvtzdpMt",
    "outputId": "87587a60-39bc-44cf-b2a8-80f7c12ba8ff"
   },
   "outputs": [
    {
     "name": "stdout",
     "output_type": "stream",
     "text": [
      "4.71 s ± 40.8 ms per loop (mean ± std. dev. of 7 runs, 1 loop each)\n"
     ]
    }
   ],
   "source": [
    "%%timeit\n",
    "x = cp.Variable(len(c))\n",
    "obj = cp.Minimize(c.T@x)\n",
    "constr = [A@x == b,\n",
    "        x <= 0]\n",
    "prob = cp.Problem(obj, constr)\n",
    "prob.solve(solver='CLARABEL')\n"
   ]
  },
  {
   "cell_type": "code",
   "execution_count": null,
   "metadata": {
    "id": "1ut06GKedpMt",
    "outputId": "51c7f462-64a2-4cbb-d03a-a3735e2013c3"
   },
   "outputs": [
    {
     "name": "stdout",
     "output_type": "stream",
     "text": [
      "2.03 s ± 3.97 ms per loop (mean ± std. dev. of 7 runs, 1 loop each)\n"
     ]
    }
   ],
   "source": [
    "%timeit ls.solve(resolve=True)"
   ]
  },
  {
   "cell_type": "code",
   "execution_count": null,
   "metadata": {
    "id": "Ag6ytWh9dpMu",
    "outputId": "e3fd9077-68bc-429a-ee1f-e78bff17f573"
   },
   "outputs": [
    {
     "name": "stdout",
     "output_type": "stream",
     "text": [
      "250 ms ± 1.86 ms per loop (mean ± std. dev. of 7 runs, 1 loop each)\n"
     ]
    }
   ],
   "source": [
    "%timeit ls_gpu.solve(resolve=True)"
   ]
  },
  {
   "cell_type": "code",
   "execution_count": null,
   "metadata": {
    "id": "rpB-ZZOHdpMu",
    "outputId": "65b42cbb-c042-4899-b6e5-fadb5a99fd83"
   },
   "outputs": [
    {
     "data": {
      "text/plain": [
       "<Axes: title={'center': 'Convergence of LPSolver'}, xlabel='Cumulative Newton iterations', ylabel='Optimality gap'>"
      ]
     },
     "execution_count": 16,
     "metadata": {},
     "output_type": "execute_result"
    },
    {
     "data": {
      "image/png": "[encoded data removed]",
      "text/plain": [
       "<Figure size 432x288 with 1 Axes>"
      ]
     },
     "metadata": {
      "needs_background": "light"
     },
     "output_type": "display_data"
    }
   ],
   "source": [
    "ls_gpu.plot()"
   ]
  },
  {
   "cell_type": "markdown",
   "metadata": {},
   "source": [
    "### Try out an inequality constrained problem (solver will run phase 1)"
   ]
  },
  {
   "cell_type": "code",
   "execution_count": 93,
   "metadata": {},
   "outputs": [
    {
     "name": "stdout",
     "output_type": "stream",
     "text": [
      "Not able to run with GPU\n",
      "Not able to run with GPU\n"
     ]
    }
   ],
   "source": [
    "n = 100\n",
    "m = 50\n",
    "C = np.random.random((m,n))\n",
    "C = np.where(np.random.binomial(1, 0.10, C.shape), C, 0)  # <- apply a random mask with 10% density  (A will be 90% sparse)\n",
    "d = np.random.randint(low=1, high=30, size=C.shape[0])\n",
    "\n",
    "c = np.random.randint(low=1, high=n, size=C.shape[1]) - n/2"
   ]
  },
  {
   "cell_type": "code",
   "execution_count": 112,
   "metadata": {},
   "outputs": [
    {
     "name": "stdout",
     "output_type": "stream",
     "text": [
      "Testing CVXPY\n",
      "Starting slack of 5.9864\n"
     ]
    }
   ],
   "source": [
    "# provide an x0 to force the solver to complete phase 1 solve\n",
    "\n",
    "ls= LPSolver(c=c,\n",
    "        A=A,\n",
    "        b=b,\n",
    "        C=C,\n",
    "        d=d,\n",
    "        use_gpu=False,\n",
    "        upper_bound=None,\n",
    "        lower_bound=0,\n",
    "        suppress_print=False,\n",
    "        epsilon=1e-10,\n",
    "        t0=1,\n",
    "        update_slacks_every=5,\n",
    "        x0=np.ones(len(c)))"
   ]
  },
  {
   "cell_type": "code",
   "execution_count": 113,
   "metadata": {},
   "outputs": [
    {
     "name": "stdout",
     "output_type": "stream",
     "text": [
      "running phase 1 solver\n",
      "Current slack: 5.98635554133264\n",
      "Current slack: 14996.304442001596\n",
      "Current slack: 997.1863898023126\n",
      "Current slack: 64.07406255477198\n",
      "Current slack: 2.6033319649533615\n",
      "found a feasible point with slack -0.22639232027039274\n",
      "proceeding to solve method\n",
      "Objective value is now -8541.665643336326\n",
      "Objective value is now -8632.511509201697\n",
      "Objective value is now -8638.664775554995\n",
      "Backtracking search got stuck, returning from Newton's method now...\n",
      "Objective value is now -8639.075412302309\n",
      "Backtracking search got stuck, returning from Newton's method now...\n",
      "Objective value is now -8639.102790126659\n",
      "Backtracking search got stuck, returning from Newton's method now...\n",
      "Objective value is now -8639.104614067735\n",
      "Cholesky solver failed due to numeric instability. Proceeding with Numpy solve...\n",
      "Backtracking search got stuck, returning from Newton's method now...\n",
      "Objective value is now -8639.104803633845\n",
      "Backtracking search got stuck, returning from Newton's method now...\n",
      "Objective value is now -8639.10474560794\n",
      "Backtracking search got stuck, returning from Newton's method now...\n",
      "Objective value is now -8639.104745480483\n",
      "Backtracking search got stuck, returning from Newton's method now...\n",
      "Objective value is now -8639.104745495471\n",
      "Backtracking search got stuck, returning from Newton's method now...\n",
      "Objective value is now -8639.104745495488\n",
      "REACHED MAX ITERATIONS: Problem likely infeasible or unbounded (Likely unbounded)\n",
      "Objective value is now -8639.10474549549\n",
      "Reached max Newton steps during 12th centering step (t=8649755859375)\n"
     ]
    },
    {
     "data": {
      "text/plain": [
       "-5.82852226216346e-05"
      ]
     },
     "execution_count": 113,
     "metadata": {},
     "output_type": "execute_result"
    }
   ],
   "source": [
    "ls.solve() - ls.cvxpy_val"
   ]
  },
  {
   "cell_type": "markdown",
   "metadata": {},
   "source": [
    "### Run the same problem, but turn it into a QP by passing the identity matrix to P in QPSolver"
   ]
  },
  {
   "cell_type": "code",
   "execution_count": 109,
   "metadata": {},
   "outputs": [
    {
     "name": "stdout",
     "output_type": "stream",
     "text": [
      "Testing CVXPY\n",
      "Starting slack of 78.7609\n"
     ]
    }
   ],
   "source": [
    "# Also add in a dummy equality constraint just to showcase capability\n",
    "# for example, here we are forcing the first entry in x to be 1\n",
    "A = np.hstack((1, np.zeros(len(c)-1))).reshape(1,-1)\n",
    "b = np.array([1])\n",
    "\n",
    "qs= QPSolver(P=np.eye(len(c)), \n",
    "        q=c,\n",
    "        A=A,\n",
    "        b=b,\n",
    "        C=C,\n",
    "        d=d,\n",
    "        t0=0.1,\n",
    "        use_gpu=False,\n",
    "        upper_bound=None,\n",
    "        lower_bound=0,\n",
    "        suppress_print=False,\n",
    "        mu=15,\n",
    "        x0 = np.ones(len(c))*10,\n",
    "        update_slacks_every=0)"
   ]
  },
  {
   "cell_type": "code",
   "execution_count": 110,
   "metadata": {},
   "outputs": [
    {
     "name": "stdout",
     "output_type": "stream",
     "text": [
      "running phase 1 solver\n",
      "Current slack: 78.76085151472293\n",
      "Current slack: 14996.928601058991\n",
      "Current slack: 997.1866137531274\n",
      "Current slack: 64.07406263767669\n",
      "Current slack: 2.6033319649561926\n",
      "found a feasible point with slack -0.22639232027036854\n",
      "proceeding to solve method\n",
      "Objective value is now -4620.589435840365\n",
      "Objective value is now -5316.442786746958\n",
      "Objective value is now -5370.8392221072345\n",
      "Objective value is now -5374.525486524601\n",
      "Backtracking search got stuck, returning from Newton's method now...\n",
      "Objective value is now -5374.746225631481\n",
      "Backtracking search got stuck, returning from Newton's method now...\n",
      "Objective value is now -5374.788549248652\n",
      "Backtracking search got stuck, returning from Newton's method now...\n",
      "Objective value is now -5374.789538351915\n",
      "Backtracking search got stuck, returning from Newton's method now...\n",
      "Objective value is now -5374.789722506872\n",
      "Backtracking search got stuck, returning from Newton's method now...\n",
      "Objective value is now -5374.789725911084\n",
      "Backtracking search got stuck, returning from Newton's method now...\n",
      "Objective value is now -5374.7897277163665\n",
      "Backtracking search got stuck, returning from Newton's method now...\n",
      "Objective value is now -5374.789727731493\n",
      "Backtracking search got stuck, returning from Newton's method now...\n",
      "Objective value is now -5374.789727739523\n",
      "Backtracking search got stuck, returning from Newton's method now...\n",
      "Objective value is now -5374.789727739608\n"
     ]
    },
    {
     "data": {
      "text/plain": [
       "-1.0571115126367658e-05"
      ]
     },
     "execution_count": 110,
     "metadata": {},
     "output_type": "execute_result"
    }
   ],
   "source": [
    "qs.solve(track_loss=True) - qs.cvxpy_val"
   ]
  },
  {
   "cell_type": "code",
   "execution_count": 111,
   "metadata": {},
   "outputs": [
    {
     "data": {
      "text/plain": [
       "<Axes: title={'center': 'Convergence of QPSolver'}, xlabel='Cumulative Newton iterations', ylabel='Optimality gap'>"
      ]
     },
     "execution_count": 111,
     "metadata": {},
     "output_type": "execute_result"
    },
    {
     "data": {
      "image/png": "[encoded data removed]",
      "text/plain": [
       "<Figure size 640x480 with 1 Axes>"
      ]
     },
     "metadata": {},
     "output_type": "display_data"
    }
   ],
   "source": [
    "qs.plot()"
   ]
  },
  {
   "cell_type": "markdown",
   "metadata": {},
   "source": [
    "## SOCP Solver"
   ]
  },
  {
   "cell_type": "code",
   "execution_count": 114,
   "metadata": {},
   "outputs": [],
   "source": [
    "# Load in data from HW5\n",
    "\n",
    "LAMBDA = 0.02\n",
    "RHO = 0.4\n",
    "T = 10\n",
    "GROUPS = [\n",
    "    [0],\n",
    "    [1],\n",
    "    [2],\n",
    "    [3, 4, 5, 6, 7],\n",
    "    [8, 9, 10, 11, 12, 13],\n",
    "    [14, 15],\n",
    "    [16],\n",
    "    [17],\n",
    "    [18],\n",
    "]\n",
    "FSTAR = 49.9649387126726\n",
    "\n",
    "def get_weights(groups):\n",
    "\n",
    "    group_sizes = list(map(len, groups))\n",
    "    weights = np.sqrt(group_sizes)\n",
    "    return weights\n",
    "\n",
    "def load_data(X_train_path, y_train_path):\n",
    "    X_train = np.loadtxt(X_train_path, delimiter=\",\")\n",
    "    X_train = np.hstack([np.ones(X_train.shape[0])[:, np.newaxis], X_train])\n",
    "    y_train = np.loadtxt(y_train_path, delimiter=\",\")\n",
    "    return X_train, y_train\n",
    "\n",
    "X, Y = load_data('example_data/X_train.csv', 'example_data/Y_train.csv')\n",
    "w = get_weights(GROUPS)[1:]"
   ]
  },
  {
   "cell_type": "code",
   "execution_count": 115,
   "metadata": {},
   "outputs": [],
   "source": [
    "# transform into format for SOCPSolver\n",
    "\n",
    "P = np.zeros((27,27))\n",
    "P[:19,:19] = 1/(X.shape[0]) * X.T@X\n",
    "q = np.zeros(27)\n",
    "q[:19] = -1/(X.shape[0]) * Y.T@X\n",
    "q[19:] = LAMBDA * w\n",
    "A = []\n",
    "c = []\n",
    "for i in range(len(GROUPS)-1):\n",
    "    Ai = np.zeros((27,27))\n",
    "    ci = np.zeros(27)\n",
    "    Ai[GROUPS[i+1], GROUPS[i+1]] = 1\n",
    "    A.append(Ai)\n",
    "    ci[i+19] = 1\n",
    "    c.append(ci)"
   ]
  },
  {
   "cell_type": "code",
   "execution_count": 119,
   "metadata": {},
   "outputs": [
    {
     "name": "stdout",
     "output_type": "stream",
     "text": [
      "Testing CVXPY\n",
      "Starting slack of 2.969\n"
     ]
    }
   ],
   "source": [
    "scs = SOCPSolver(P=P, \n",
    "        q=q,\n",
    "        A=A,\n",
    "        b=None,\n",
    "        c=c,\n",
    "        d=None,\n",
    "        use_gpu=False,\n",
    "        upper_bound=None,\n",
    "        lower_bound=None,\n",
    "        suppress_print=False)"
   ]
  },
  {
   "cell_type": "markdown",
   "metadata": {},
   "source": [
    "### Currently running into occasional bug where phase 1 solver converges to small positive number!"
   ]
  },
  {
   "cell_type": "code",
   "execution_count": 120,
   "metadata": {},
   "outputs": [
    {
     "name": "stdout",
     "output_type": "stream",
     "text": [
      "running phase 1 solver\n",
      "Current slack: 2.968956478616826\n",
      "Cholesky solver failed due to numeric instability. Proceeding with Numpy solve...\n",
      "found a feasible point with slack -242.59279408119625\n",
      "proceeding to solve method\n",
      "REACHED MAX ITERATIONS: Problem likely infeasible or unbounded (Likely infeasible)\n",
      "Objective value is now -270.9968954680217\n",
      "Reached max Newton steps during 1th centering step (t=0.1)\n",
      "Objective value is now -418.3762764785082\n",
      "Objective value is now -427.189927748653\n",
      "Objective value is now -427.6315154356971\n",
      "Objective value is now -427.65697057132735\n",
      "Objective value is now -427.6586333162318\n",
      "Objective value is now -427.6587440266498\n",
      "Objective value is now -427.65875141953455\n",
      "Backtracking search got stuck, returning from Newton's method now...\n",
      "Objective value is now -427.6587518477065\n",
      "Backtracking search got stuck, returning from Newton's method now...\n",
      "Objective value is now -427.65875184974743\n",
      "Backtracking search got stuck, returning from Newton's method now...\n",
      "Objective value is now -427.6587518500406\n",
      "Backtracking search got stuck, returning from Newton's method now...\n",
      "Objective value is now -427.65875185004023\n"
     ]
    },
    {
     "data": {
      "text/plain": [
       "3.5586822377808858e-09"
      ]
     },
     "execution_count": 120,
     "metadata": {},
     "output_type": "execute_result"
    }
   ],
   "source": [
    "scs.solve() - scs.cvxpy_val"
   ]
  },
  {
   "cell_type": "code",
   "execution_count": 121,
   "metadata": {},
   "outputs": [
    {
     "data": {
      "text/plain": [
       "(49.96493879693293, 49.9649387126726)"
      ]
     },
     "execution_count": 121,
     "metadata": {},
     "output_type": "execute_result"
    }
   ],
   "source": [
    "# confirm that we get the same solution as in the homework\n",
    "\n",
    "scs.value + Y.T@Y/(2*X.shape[0]), FSTAR"
   ]
  },
  {
   "cell_type": "markdown",
   "metadata": {},
   "source": [
    "### Random problem generation"
   ]
  },
  {
   "cell_type": "code",
   "execution_count": 125,
   "metadata": {},
   "outputs": [],
   "source": [
    "m = 10\n",
    "n = 50\n",
    "p = 10\n",
    "n_i = 15\n",
    "f = np.random.randn(n)\n",
    "A = []\n",
    "b = []\n",
    "c = []\n",
    "d = []\n",
    "x0 = np.random.randn(n)\n",
    "for i in range(m):\n",
    "    A.append(np.random.randn(n_i, n))\n",
    "    b.append(np.random.randn(n_i))\n",
    "    c.append(np.random.randn(n))\n",
    "    d.append(np.linalg.norm(A[i] @ x0 + b[i], 2) - c[i].T @ x0)\n",
    "F = np.random.randn(p, n)\n",
    "g = F @ x0"
   ]
  },
  {
   "cell_type": "code",
   "execution_count": 134,
   "metadata": {},
   "outputs": [
    {
     "name": "stdout",
     "output_type": "stream",
     "text": [
      "Testing CVXPY\n",
      "Starting slack of 861.9187\n"
     ]
    }
   ],
   "source": [
    "scs = SOCPSolver(P=None, \n",
    "        q=f,\n",
    "        A=A,\n",
    "        b=b,\n",
    "        c=c,\n",
    "        d=d,\n",
    "        F=None,\n",
    "        g=None,\n",
    "        use_gpu=False,\n",
    "        upper_bound=None,\n",
    "        lower_bound=None,\n",
    "        suppress_print=False,\n",
    "        update_slacks_every=0,\n",
    "        check_cvxpy=True,\n",
    "        alpha=0.02,\n",
    "        x0=np.ones(len(f))*1)\n",
    "\n",
    "#scs.solve(track_loss=True) - scs.cvxpy_val"
   ]
  },
  {
   "cell_type": "code",
   "execution_count": 135,
   "metadata": {},
   "outputs": [
    {
     "name": "stdout",
     "output_type": "stream",
     "text": [
      "running phase 1 solver\n",
      "Current slack: 861.9187066433233\n",
      "found a feasible point with slack -81.72190907530921\n",
      "proceeding to solve method\n",
      "Backtracking search got stuck, returning from Newton's method now...\n",
      "Objective value is now -64.587393885886\n",
      "Backtracking search got stuck, returning from Newton's method now...\n",
      "Objective value is now -112.57500020632511\n",
      "Backtracking search got stuck, returning from Newton's method now...\n",
      "Objective value is now -117.48027444243709\n",
      "Backtracking search got stuck, returning from Newton's method now...\n",
      "Objective value is now -118.36416778880648\n",
      "Backtracking search got stuck, returning from Newton's method now...\n",
      "Objective value is now -118.38082392636395\n",
      "Backtracking search got stuck, returning from Newton's method now...\n",
      "Objective value is now -118.40665911644221\n",
      "Backtracking search got stuck, returning from Newton's method now...\n",
      "Objective value is now -118.41737793287118\n",
      "Backtracking search got stuck, returning from Newton's method now...\n",
      "Objective value is now -118.41925843889183\n",
      "Backtracking search got stuck, returning from Newton's method now...\n",
      "Objective value is now -118.4199376329336\n",
      "Backtracking search got stuck, returning from Newton's method now...\n",
      "Objective value is now -118.42010066511388\n",
      "Backtracking search got stuck, returning from Newton's method now...\n",
      "Objective value is now -118.42016365993258\n",
      "Backtracking search got stuck, returning from Newton's method now...\n",
      "Objective value is now -118.42017380175723\n"
     ]
    },
    {
     "data": {
      "text/plain": [
       "1.6654780552016746e-05"
      ]
     },
     "execution_count": 135,
     "metadata": {},
     "output_type": "execute_result"
    }
   ],
   "source": [
    "scs.solve(track_loss=True) - scs.cvxpy_val"
   ]
  },
  {
   "cell_type": "code",
   "execution_count": 15,
   "metadata": {},
   "outputs": [
    {
     "data": {
      "text/plain": [
       "<Axes: title={'center': 'Convergence of SOCPSolver'}, xlabel='Cumulative Newton iterations', ylabel='Optimality gap'>"
      ]
     },
     "execution_count": 15,
     "metadata": {},
     "output_type": "execute_result"
    },
    {
     "data": {
      "image/png": "[encoded data removed]",
      "text/plain": [
       "<Figure size 640x480 with 1 Axes>"
      ]
     },
     "metadata": {},
     "output_type": "display_data"
    }
   ],
   "source": [
    "scs.plot()"
   ]
  },
  {
   "cell_type": "markdown",
   "metadata": {},
   "source": [
    "### Benchmark SOCP Solver"
   ]
  },
  {
   "cell_type": "code",
   "execution_count": 136,
   "metadata": {},
   "outputs": [],
   "source": [
    "scs = SOCPSolver(P=None, \n",
    "        q=f,\n",
    "        A=A,\n",
    "        b=b,\n",
    "        c=c,\n",
    "        d=d,\n",
    "        F=F,\n",
    "        g=g,\n",
    "        use_gpu=False,\n",
    "        upper_bound=None,\n",
    "        lower_bound=None,\n",
    "        suppress_print=True,\n",
    "        update_slacks_every=0,\n",
    "        check_cvxpy=False)\n",
    "\n",
    "#scs.solve(track_loss=True) - scs.cvxpy_val"
   ]
  },
  {
   "cell_type": "code",
   "execution_count": 19,
   "metadata": {},
   "outputs": [
    {
     "name": "stderr",
     "output_type": "stream",
     "text": [
      "/Users/frankdeguire/anaconda3/envs/ee364/lib/python3.11/site-packages/cvxpy/reductions/solvers/solving_chain.py:336: FutureWarning: \n",
      "    Your problem is being solved with the ECOS solver by default. Starting in \n",
      "    CVXPY 1.5.0, Clarabel will be used as the default solver instead. To continue \n",
      "    using ECOS, specify the ECOS solver explicitly using the ``solver=cp.ECOS`` \n",
      "    argument to the ``problem.solve`` method.\n",
      "    \n",
      "  warnings.warn(ECOS_DEPRECATION_MSG, FutureWarning)\n"
     ]
    },
    {
     "name": "stdout",
     "output_type": "stream",
     "text": [
      "19.4 s ± 3.32 s per loop (mean ± std. dev. of 7 runs, 1 loop each)\n"
     ]
    }
   ],
   "source": [
    "%%timeit \n",
    "# Define and solve the CVXPY problem.\n",
    "x = cp.Variable(n)\n",
    "# We use cp.SOC(t, x) to create the SOC constraint ||x||_2 <= t.\n",
    "soc_constraints = [\n",
    "      cp.SOC(c[i].T @ x + d[i], A[i] @ x + b[i]) for i in range(m)\n",
    "]\n",
    "prob = cp.Problem(cp.Minimize(f.T@x),\n",
    "                  soc_constraints + [F @ x == g])\n",
    "prob.solve()"
   ]
  },
  {
   "cell_type": "code",
   "execution_count": 21,
   "metadata": {},
   "outputs": [
    {
     "name": "stdout",
     "output_type": "stream",
     "text": [
      "2.89 s ± 355 ms per loop (mean ± std. dev. of 7 runs, 1 loop each)\n"
     ]
    }
   ],
   "source": [
    "%timeit scs.solve(track_loss=False)"
   ]
  },
  {
   "cell_type": "code",
   "execution_count": 24,
   "metadata": {},
   "outputs": [
    {
     "data": {
      "text/plain": [
       "(-1298.4653910738707, -1298.4653972079934)"
      ]
     },
     "execution_count": 24,
     "metadata": {},
     "output_type": "execute_result"
    }
   ],
   "source": [
    "prob.value, scs.value"
   ]
  },
  {
   "cell_type": "code",
   "execution_count": 30,
   "metadata": {},
   "outputs": [
    {
     "data": {
      "text/plain": [
       "<Axes: title={'center': 'Convergence of SOCPSolver'}, xlabel='Cumulative Newton iterations', ylabel='Optimality gap'>"
      ]
     },
     "execution_count": 30,
     "metadata": {},
     "output_type": "execute_result"
    },
    {
     "data": {
      "image/png": "[encoded data removed]",
      "text/plain": [
       "<Figure size 640x480 with 1 Axes>"
      ]
     },
     "metadata": {},
     "output_type": "display_data"
    }
   ],
   "source": [
    "scs.plot()"
   ]
  },
  {
   "cell_type": "markdown",
   "metadata": {},
   "source": [
    "## LassoSolver"
   ]
  },
  {
   "cell_type": "markdown",
   "metadata": {},
   "source": [
    "(Our true winnner)"
   ]
  },
  {
   "cell_type": "markdown",
   "metadata": {},
   "source": [
    "### Generate random problem data"
   ]
  },
  {
   "cell_type": "markdown",
   "metadata": {},
   "source": [
    "Generate a sparse x so that it replicates a LASSO problem well. Generate multiple problem instances by generating a B matrix instead of just a vector"
   ]
  },
  {
   "cell_type": "code",
   "execution_count": 23,
   "metadata": {
    "id": "fCW0MxC9dpMu"
   },
   "outputs": [],
   "source": [
    "m = 500\n",
    "n = 150\n",
    "num_problems = 30\n",
    "num_nonzero = 1000 # create a sparse x_true with this many nonzero entries\n",
    "A = np.random.rand(m, n)\n",
    "x_true = np.zeros((n, num_problems))\n",
    "x_true[np.unravel_index(np.random.randint(0,n*num_problems, num_nonzero), (n, num_problems))] = np.random.uniform(0,50, num_nonzero)\n",
    "reg = 0.05 + 0.01*np.random.randn(num_problems) # give each subproblem a slightly different regularization\n",
    "B = A@x_true + np.random.randn(m, num_problems)"
   ]
  },
  {
   "cell_type": "code",
   "execution_count": 24,
   "metadata": {},
   "outputs": [
    {
     "name": "stdout",
     "output_type": "stream",
     "text": [
      "Testing CVXPY\n",
      "CVXPY solving sample 1...Optimal value of 8.5134\n",
      "CVXPY solving sample 2...Optimal value of 15.3696\n",
      "CVXPY solving sample 3...Optimal value of 6.7719\n",
      "CVXPY solving sample 4...Optimal value of 13.7393\n",
      "CVXPY solving sample 5...Optimal value of 14.8268\n",
      "CVXPY solving sample 6...Optimal value of 11.2279\n",
      "CVXPY solving sample 7...Optimal value of 13.0617\n",
      "CVXPY solving sample 8...Optimal value of 7.5663\n",
      "CVXPY solving sample 9...Optimal value of 8.452\n",
      "CVXPY solving sample 10...Optimal value of 11.3587\n",
      "CVXPY solving sample 11...Optimal value of 9.579\n",
      "CVXPY solving sample 12...Optimal value of 14.5551\n",
      "CVXPY solving sample 13...Optimal value of 16.4474\n",
      "CVXPY solving sample 14...Optimal value of 18.2706\n",
      "CVXPY solving sample 15...Optimal value of 12.8363\n",
      "CVXPY solving sample 16...Optimal value of 9.7036\n",
      "CVXPY solving sample 17...Optimal value of 12.2318\n",
      "CVXPY solving sample 18...Optimal value of 15.5859\n",
      "CVXPY solving sample 19...Optimal value of 11.9294\n",
      "CVXPY solving sample 20...Optimal value of 11.9577\n",
      "CVXPY solving sample 21...Optimal value of 12.542\n",
      "CVXPY solving sample 22...Optimal value of 11.1823\n",
      "CVXPY solving sample 23...Optimal value of 10.1845\n",
      "CVXPY solving sample 24...Optimal value of 11.1099\n",
      "CVXPY solving sample 25...Optimal value of 14.034\n",
      "CVXPY solving sample 26...Optimal value of 8.9551\n",
      "CVXPY solving sample 27...Optimal value of 13.0326\n",
      "CVXPY solving sample 28...Optimal value of 7.3535\n",
      "CVXPY solving sample 29...Optimal value of 8.6678\n",
      "CVXPY solving sample 30...Optimal value of 6.9143\n"
     ]
    }
   ],
   "source": [
    "# create the LassoSolver object to solve all subproblems in parallel\n",
    "# add the bias term and normalize A and then compare to CVXPY solver\n",
    "\n",
    "ls = LassoSolver(\n",
    "        A,\n",
    "        B,\n",
    "        reg=reg,\n",
    "        rho=0.4,\n",
    "        max_iters=1000,\n",
    "        check_stop=10,\n",
    "        add_bias=True,\n",
    "        normalize_A=True,\n",
    "        positive=False,\n",
    "        compute_loss=True,\n",
    "        adaptive_rho=False,\n",
    "        eps_abs=1e-6,\n",
    "        eps_rel=1e-4,\n",
    "        use_gpu=False,\n",
    "        num_chunks=0\n",
    "    )\n"
   ]
  },
  {
   "cell_type": "code",
   "execution_count": 25,
   "metadata": {},
   "outputs": [],
   "source": [
    "X, solutions, gaps, iters = ls.solve()"
   ]
  },
  {
   "cell_type": "code",
   "execution_count": 26,
   "metadata": {},
   "outputs": [
    {
     "data": {
      "text/plain": [
       "array([-0.02998526, -0.02605976, -0.00041404, -0.0524055 , -0.05616224,\n",
       "       -0.01734689, -0.04153745, -0.00364761, -0.03187835, -0.02356449,\n",
       "       -0.01958842, -0.03259362, -0.04862576, -0.05271794, -0.06422837,\n",
       "       -0.01690379, -0.0262829 , -0.06294509, -0.01991161, -0.02811559,\n",
       "       -0.02073896, -0.02931188, -0.01732493, -0.02096987, -0.02420308,\n",
       "       -0.03021745, -0.06417266, -0.00821221, -0.00873121, -0.00733874])"
      ]
     },
     "execution_count": 26,
     "metadata": {},
     "output_type": "execute_result"
    }
   ],
   "source": [
    "# LassoSolver actually achieved lower objective values than CVXPY!\n",
    "solutions - ls.cvxpy_vals"
   ]
  },
  {
   "cell_type": "code",
   "execution_count": 27,
   "metadata": {},
   "outputs": [
    {
     "data": {
      "text/plain": [
       "<Axes: title={'center': 'Convergence of LassoSolver'}, xlabel='iteration number', ylabel='Optimality gap'>"
      ]
     },
     "execution_count": 27,
     "metadata": {},
     "output_type": "execute_result"
    },
    {
     "data": {
      "image/png": "[encoded data removed]",
      "text/plain": [
       "<Figure size 432x288 with 1 Axes>"
      ]
     },
     "metadata": {
      "needs_background": "light"
     },
     "output_type": "display_data"
    }
   ],
   "source": [
    "# note that, because LassoSolver achieved better objective values than CVXPY, the optimal value was considered the value at the end of the LassoSolver solve, which is why\n",
    "# the optimality gap goes to negative infinity on the log plot\n",
    "ls.plot()"
   ]
  },
  {
   "cell_type": "markdown",
   "metadata": {},
   "source": [
    "### Benchmark against CVXPY\n",
    "#### One good use case of solving multiple problems in parallel is being able to test several regularization strengths at the same time"
   ]
  },
  {
   "cell_type": "code",
   "execution_count": 28,
   "metadata": {},
   "outputs": [],
   "source": [
    "# generate data\n",
    "# have one vector for b (only solving one problem instance), but generate multiple values for regularization strength\n",
    "# test 50 different regularization strengths logarithmically spaced from 10^-5 to 10^2\n",
    "\n",
    "m = 800\n",
    "n = 400\n",
    "num_problems = 1\n",
    "num_nonzero = 10000 # create a sparse x_true with this many nonzero entries\n",
    "A = np.random.rand(m, n)\n",
    "x_true = np.zeros((n, num_problems))\n",
    "x_true[np.unravel_index(np.random.randint(0,n*num_problems, num_nonzero), (n, num_problems))] = np.random.uniform(0,50, num_nonzero)\n",
    "reg = np.logspace(-5,2,50)\n",
    "b = A@x_true + np.random.randn(m, num_problems)\n"
   ]
  },
  {
   "cell_type": "code",
   "execution_count": 73,
   "metadata": {},
   "outputs": [],
   "source": [
    "# create the LassoSolver object to solve all subproblems in parallel\n",
    "# turn off compute loss and lower epsilons a bit (resort to defauly -- we were already outperforming CVXPY anyways)\n",
    "# add a bias term, but don't normalize A here\n",
    "\n",
    "ls = LassoSolver(\n",
    "        A,\n",
    "        b,\n",
    "        reg=reg,\n",
    "        rho=0.004,\n",
    "        max_iters=10000,\n",
    "        check_stop=100,\n",
    "        add_bias=True,\n",
    "        normalize_A=False,\n",
    "        positive=False,\n",
    "        compute_loss=False,\n",
    "        adaptive_rho=False,\n",
    "        use_gpu=True,\n",
    "        num_chunks=0,\n",
    "        eps_rel=1e-6,\n",
    "    eps_abs=1e-6,\n",
    "        check_cvxpy=False\n",
    "    )"
   ]
  },
  {
   "cell_type": "code",
   "execution_count": 30,
   "metadata": {},
   "outputs": [
    {
     "name": "stdout",
     "output_type": "stream",
     "text": [
      "57.54086780548096\n"
     ]
    }
   ],
   "source": [
    "# time how long it takes to solve all the problems in CVXPY (we must solve sequentially)\n",
    "from time import time\n",
    "vals = []\n",
    "A = np.hstack((np.ones((m,1)), A))\n",
    "start = time()\n",
    "for r in reg:\n",
    "    x = cp.Variable(n+1)\n",
    "    obj = cp.Minimize(1/(2*m)*cp.norm2(A@x - b[:,0])**2 + r*cp.norm(x[1:], 1))\n",
    "    prob = cp.Problem(obj, [])\n",
    "    prob.solve(solver='CLARABEL')\n",
    "    vals.append(prob.value)\n",
    "print(time()-start)"
   ]
  },
  {
   "cell_type": "code",
   "execution_count": 38,
   "metadata": {},
   "outputs": [
    {
     "data": {
      "text/plain": [
       "array([ 2.03676304e-06,  2.48952755e-06,  2.80171960e-06,  2.62359206e-06,\n",
       "        1.19473962e-06,  1.06894333e-07,  2.05324122e-08,  4.18690793e-09,\n",
       "        3.55764307e-10,  1.03648645e-10,  8.30225666e-10,  1.57042823e-09,\n",
       "        1.56147628e-09,  6.85477453e-10,  6.00230976e-12,  2.91725577e-09,\n",
       "        1.84500983e-08,  6.69775062e-08,  1.93903119e-07,  4.62686238e-07,\n",
       "        1.04002318e-06,  1.91174580e-06,  2.38510839e-06,  4.03184561e-06,\n",
       "        6.83488480e-06,  1.82919687e-05,  2.09881954e-05,  2.08803473e-05,\n",
       "        2.21523495e-05,  1.40516140e-05,  6.44777606e-06,  4.90681168e-06,\n",
       "       -1.22348183e-06, -7.85770681e-07, -1.44148689e-05, -1.05966301e-05,\n",
       "       -1.89473831e-05, -3.69965710e-06, -1.12832367e-05, -3.56014370e-05,\n",
       "       -1.35434857e-06, -4.75865454e-06, -3.23347558e-06, -2.36963388e-07,\n",
       "       -2.48328433e-08, -5.80257620e-08, -1.70943167e-07, -3.57315002e-07,\n",
       "       -6.49673893e-07, -1.09386929e-06])"
      ]
     },
     "execution_count": 38,
     "metadata": {},
     "output_type": "execute_result"
    }
   ],
   "source": [
    "ls.solutions.get() - np.array(vals)"
   ]
  },
  {
   "cell_type": "code",
   "execution_count": 100,
   "metadata": {},
   "outputs": [
    {
     "name": "stdout",
     "output_type": "stream",
     "text": [
      "1.08 s ± 260 ms per loop (mean ± std. dev. of 7 runs, 1 loop each)\n"
     ]
    }
   ],
   "source": [
    "%timeit ls.solve() # not bad for solving 50 different LASSO problems simultaneously -- and without GPU!\n",
    "# we will get even better relative performance as problem size increases and GPU is implemented"
   ]
  },
  {
   "cell_type": "code",
   "execution_count": 101,
   "metadata": {},
   "outputs": [
    {
     "data": {
      "text/plain": [
       "0.004407873999298317"
      ]
     },
     "execution_count": 101,
     "metadata": {},
     "output_type": "execute_result"
    }
   ],
   "source": [
    "# and just another sanity check: LassoSolver once again matches with CVXPY\n",
    "ls.solve()\n",
    "np.linalg.norm(ls.X[:,-1] - x.value)"
   ]
  },
  {
   "cell_type": "code",
   "execution_count": 74,
   "metadata": {},
   "outputs": [
    {
     "name": "stdout",
     "output_type": "stream",
     "text": [
      "0.18696284294128418\n"
     ]
    }
   ],
   "source": [
    "from time import time\n",
    "tic = time()\n",
    "ls.solve()\n",
    "toc = time()\n",
    "print(toc-tic)"
   ]
  },
  {
   "cell_type": "code",
   "execution_count": 75,
   "metadata": {},
   "outputs": [
    {
     "data": {
      "text/plain": [
       "array([3.77291905e-01, 4.16801762e-01, 4.71700250e-01, 5.47980911e-01,\n",
       "       6.53971500e-01, 8.01242930e-01, 1.00587202e+00, 1.29019571e+00,\n",
       "       1.68524767e+00, 2.23414256e+00, 2.99677543e+00, 4.05634588e+00,\n",
       "       5.52841255e+00, 7.57345311e+00, 1.04142759e+01, 1.43601346e+01,\n",
       "       1.98400848e+01, 2.74490397e+01, 3.80112007e+01, 5.26671374e+01,\n",
       "       7.29927976e+01, 1.01160649e+02, 1.40158808e+02, 1.94086374e+02,\n",
       "       2.68523963e+02, 3.71008303e+02, 5.11632570e+02, 7.03754831e+02,\n",
       "       9.64684947e+02, 1.31638713e+03, 1.78561417e+03, 2.40261896e+03,\n",
       "       3.19803411e+03, 4.19999079e+03, 5.41723236e+03, 6.83762669e+03,\n",
       "       8.40369929e+03, 9.98345685e+03, 1.14164258e+04, 1.24909583e+04,\n",
       "       1.30425732e+04, 1.31596845e+04, 1.31655210e+04, 1.31655210e+04,\n",
       "       1.31655210e+04, 1.31655210e+04, 1.31655210e+04, 1.31655210e+04,\n",
       "       1.31655210e+04, 1.31655210e+04])"
      ]
     },
     "execution_count": 75,
     "metadata": {},
     "output_type": "execute_result"
    }
   ],
   "source": [
    "ls.solutions"
   ]
  },
  {
   "cell_type": "code",
   "execution_count": 76,
   "metadata": {},
   "outputs": [
    {
     "data": {
      "text/plain": [
       "[600]"
      ]
     },
     "execution_count": 76,
     "metadata": {},
     "output_type": "execute_result"
    }
   ],
   "source": [
    "ls.num_iterations"
   ]
  },
  {
   "cell_type": "code",
   "execution_count": 77,
   "metadata": {},
   "outputs": [
    {
     "data": {
      "text/plain": [
       "array([ 5.15071319e-12,  5.00088859e-12,  3.91908728e-13,  2.26664243e-11,\n",
       "        2.70840017e-11,  1.99382733e-11,  1.22346577e-13,  4.10560475e-12,\n",
       "        2.50843790e-11,  6.70574707e-14,  4.28226343e-11,  3.48165941e-13,\n",
       "       -8.88178420e-16,  3.17132987e-11,  3.26849658e-13,  3.95772304e-12,\n",
       "        5.05551156e-11,  4.92768493e-10,  6.61017907e-10,  5.54152280e-10,\n",
       "        5.67564484e-09,  9.83858683e-09,  1.11589316e-08,  1.17243530e-08,\n",
       "        4.67383984e-07,  2.22563244e-07,  9.64381002e-08,  2.27995088e-07,\n",
       "        2.12738087e-07,  2.22895096e-07,  1.61475600e-06,  1.37308598e-06,\n",
       "        2.29492844e-06,  1.02773993e-06,  1.44165124e-05,  1.05966228e-05,\n",
       "        1.89474013e-05,  3.69963163e-06,  1.12829639e-05,  3.54047952e-05,\n",
       "       -2.31481499e-06, -8.07198739e-06, -9.52437586e-06, -1.25208862e-05,\n",
       "       -1.27330186e-05, -1.26998239e-05, -1.25869065e-05, -1.24005328e-05,\n",
       "       -1.21081757e-05, -1.16639821e-05])"
      ]
     },
     "execution_count": 77,
     "metadata": {},
     "output_type": "execute_result"
    }
   ],
   "source": [
    "vals - ls.solutions.get()"
   ]
  },
  {
   "cell_type": "code",
   "execution_count": null,
   "metadata": {},
   "outputs": [],
   "source": []
  }
 ],
 "metadata": {
  "colab": {
   "provenance": []
  },
  "kernelspec": {
   "display_name": "Python 3 (ipykernel)",
   "language": "python",
   "name": "python3"
  },
  "language_info": {
   "codemirror_mode": {
    "name": "ipython",
    "version": 3
   },
   "file_extension": ".py",
   "mimetype": "text/x-python",
   "name": "python",
   "nbconvert_exporter": "python",
   "pygments_lexer": "ipython3",
   "version": "3.9.0"
  }
 },
 "nbformat": 4,
 "nbformat_minor": 1
}
