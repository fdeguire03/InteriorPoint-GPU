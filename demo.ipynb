{
 "cells": [
  {
   "cell_type": "code",
   "execution_count": 1,
   "metadata": {},
   "outputs": [],
   "source": [
    "%load_ext autoreload\n",
    "%autoreload 2"
   ]
  },
  {
   "cell_type": "code",
   "execution_count": 2,
   "metadata": {},
   "outputs": [
    {
     "name": "stdout",
     "output_type": "stream",
     "text": [
      "Not able to run with GPU\n",
      "Not able to run with GPU\n"
     ]
    }
   ],
   "source": [
    "import numpy as np\n",
    "import matplotlib.pyplot as plt\n",
    "from LPSolver import LPSolver\n",
    "import cvxpy as cp"
   ]
  },
  {
   "cell_type": "code",
   "execution_count": 3,
   "metadata": {},
   "outputs": [],
   "source": [
    "rng = np.random.default_rng(10)"
   ]
  },
  {
   "cell_type": "markdown",
   "metadata": {},
   "source": [
    "### Generate a feasible problem instance"
   ]
  },
  {
   "cell_type": "code",
   "execution_count": 4,
   "metadata": {},
   "outputs": [],
   "source": [
    "m = 400  # number of equality constraints -- keep lower than number of variables to ensure there are multiple solutions to the problem\n",
    "n = 650  # number of variables\n",
    "\n",
    "A = rng.normal(size = (m,n))\n",
    "\n",
    "random_row_index = np.random.choice(m)\n",
    "\n",
    "# Set all entries in the selected row to their absolute values\n",
    "A[random_row_index, :] = np.abs(A[random_row_index, :])\n",
    "\n",
    "b = -A@np.abs(rng.normal(size = (n,)))\n",
    "c = rng.normal(size = (n,))"
   ]
  },
  {
   "cell_type": "markdown",
   "metadata": {},
   "source": [
    "### Create a LPSolver object"
   ]
  },
  {
   "cell_type": "markdown",
   "metadata": {},
   "source": [
    "Can specify use_gpu = True if you want to run with a GPU. GPU solver typically starts to surpass performance of CPU solver ~500 variables (depending on system)"
   ]
  },
  {
   "cell_type": "markdown",
   "metadata": {},
   "source": [
    "Also able to make multiple instances of this object to compare different hyperparameters"
   ]
  },
  {
   "cell_type": "code",
   "execution_count": 5,
   "metadata": {},
   "outputs": [],
   "source": [
    "\"\"\"\"Initialize LP problem of form:\n",
    "        Minimize c^T x\n",
    "        Subject to Ax <= b\n",
    "                   Cx == d\n",
    "                   x >= 0\n",
    "\n",
    "Can leave A, b, C, d, and c as None or specify matrices/vectors to constrain the problem\n",
    "Set sign = +/- 1 if you want to constraint x to be positive or negative\n",
    "\"\"\"\n",
    "\n",
    "ls = LPSolver(c=c,\n",
    "        A=A,\n",
    "        b=b,\n",
    "        C=None,\n",
    "        d=None,\n",
    "        use_gpu=False,\n",
    "        sign=-1,\n",
    "        t0=1,\n",
    "        max_outer_iters=50,\n",
    "        max_inner_iters=20,\n",
    "        epsilon=1e-8,\n",
    "        inner_epsilon=1e-5,\n",
    "        check_cvxpy=True,\n",
    "        linear_solve_method=\"cholesky\",\n",
    "        max_cg_iters=50,\n",
    "        alpha=0.2,\n",
    "        beta=0.6,\n",
    "        mu=50,\n",
    "        suppress_print=True)"
   ]
  },
  {
   "cell_type": "markdown",
   "metadata": {},
   "source": [
    "#### Compare LPSolver solution to the CVXPY solution\n",
    "Check the ls.value parameter if you want to extract the value of the solution, use ls.xstar to get the minimizer"
   ]
  },
  {
   "cell_type": "code",
   "execution_count": 6,
   "metadata": {},
   "outputs": [
    {
     "data": {
      "text/plain": [
       "4.7870982882614044e-05"
      ]
     },
     "execution_count": 6,
     "metadata": {},
     "output_type": "execute_result"
    }
   ],
   "source": [
    "ls.solve() - ls.cvxpy_val"
   ]
  },
  {
   "cell_type": "markdown",
   "metadata": {},
   "source": [
    "### Benchmark LPSolver times vs. CVXPY\n",
    "Can also generate multiple instances of LP to benchmark times of different hyperparameters"
   ]
  },
  {
   "cell_type": "code",
   "execution_count": 7,
   "metadata": {},
   "outputs": [
    {
     "name": "stdout",
     "output_type": "stream",
     "text": [
      "3.05 s ± 320 ms per loop (mean ± std. dev. of 7 runs, 1 loop each)\n"
     ]
    }
   ],
   "source": [
    "%%timeit\n",
    "x = cp.Variable(len(c))\n",
    "obj = cp.Minimize(c.T@x)\n",
    "constr = [A@x == b,\n",
    "        x <= 0]\n",
    "prob = cp.Problem(obj, constr)\n",
    "prob.solve(solver='CLARABEL')   \n"
   ]
  },
  {
   "cell_type": "code",
   "execution_count": 8,
   "metadata": {},
   "outputs": [
    {
     "name": "stdout",
     "output_type": "stream",
     "text": [
      "1.07 s ± 422 ms per loop (mean ± std. dev. of 7 runs, 1 loop each)\n"
     ]
    }
   ],
   "source": [
    "%timeit ls.solve(resolve=True)"
   ]
  },
  {
   "cell_type": "code",
   "execution_count": null,
   "metadata": {},
   "outputs": [],
   "source": []
  }
 ],
 "metadata": {
  "kernelspec": {
   "display_name": "base",
   "language": "python",
   "name": "python3"
  },
  "language_info": {
   "codemirror_mode": {
    "name": "ipython",
    "version": 3
   },
   "file_extension": ".py",
   "mimetype": "text/x-python",
   "name": "python",
   "nbconvert_exporter": "python",
   "pygments_lexer": "ipython3",
   "version": "3.11.8"
  }
 },
 "nbformat": 4,
 "nbformat_minor": 2
}
