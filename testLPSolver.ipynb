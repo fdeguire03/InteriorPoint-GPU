{
 "cells": [
  {
   "cell_type": "code",
   "execution_count": 1,
   "metadata": {
    "colab": {
     "base_uri": "https://localhost:8080/"
    },
    "executionInfo": {
     "elapsed": 8028,
     "status": "ok",
     "timestamp": 1717100147206,
     "user": {
      "displayName": "Emanuel Herberthson",
      "userId": "02582733674716630226"
     },
     "user_tz": 420
    },
    "id": "j0Gcc-w8GB8J",
    "outputId": "dda09d0f-9cb6-4ce6-8e9d-153034406e6c"
   },
   "outputs": [
    {
     "name": "stdout",
     "output_type": "stream",
     "text": [
      "Collecting clarabel\n",
      "  Downloading clarabel-0.8.1-cp37-abi3-manylinux_2_17_x86_64.manylinux2014_x86_64.whl (1.4 MB)\n",
      "\u001b[?25l     \u001b[90m━━━━━━━━━━━━━━━━━━━━━━━━━━━━━━━━━━━━━━━━\u001b[0m \u001b[32m0.0/1.4 MB\u001b[0m \u001b[31m?\u001b[0m eta \u001b[36m-:--:--\u001b[0m\r",
      "\u001b[2K     \u001b[91m━━━━━━━━━━━━━━━━━━━━━━━━━━\u001b[0m\u001b[91m╸\u001b[0m\u001b[90m━━━━━━━━━━━━━\u001b[0m \u001b[32m0.9/1.4 MB\u001b[0m \u001b[31m27.7 MB/s\u001b[0m eta \u001b[36m0:00:01\u001b[0m\r",
      "\u001b[2K     \u001b[90m━━━━━━━━━━━━━━━━━━━━━━━━━━━━━━━━━━━━━━━━\u001b[0m \u001b[32m1.4/1.4 MB\u001b[0m \u001b[31m26.6 MB/s\u001b[0m eta \u001b[36m0:00:00\u001b[0m\n",
      "\u001b[?25hRequirement already satisfied: numpy in /usr/local/lib/python3.10/dist-packages (from clarabel) (1.25.2)\n",
      "Requirement already satisfied: scipy in /usr/local/lib/python3.10/dist-packages (from clarabel) (1.11.4)\n",
      "Installing collected packages: clarabel\n",
      "Successfully installed clarabel-0.8.1\n",
      "Collecting pysmps\n",
      "  Downloading pysmps-1.5.6-py3-none-any.whl (9.5 kB)\n",
      "Installing collected packages: pysmps\n",
      "Successfully installed pysmps-1.5.6\n"
     ]
    }
   ],
   "source": [
    "%pip install clarabel\n",
    "%pip install pysmps"
   ]
  },
  {
   "cell_type": "code",
   "execution_count": 2,
   "metadata": {
    "colab": {
     "base_uri": "https://localhost:8080/"
    },
    "executionInfo": {
     "elapsed": 96771,
     "status": "ok",
     "timestamp": 1717100243964,
     "user": {
      "displayName": "Emanuel Herberthson",
      "userId": "02582733674716630226"
     },
     "user_tz": 420
    },
    "id": "IP71F7teGHcb",
    "outputId": "e4fa174a-b4bf-4e98-f4ce-9539c2988a3b"
   },
   "outputs": [
    {
     "name": "stdout",
     "output_type": "stream",
     "text": [
      "Mounted at /content/drive\n"
     ]
    }
   ],
   "source": [
    "# This mounts your Google Drive to the Colab VM.\n",
    "from google.colab import drive\n",
    "drive.mount('/content/drive')\n",
    "\n",
    "# TODO: Enter the foldername in your Drive where you have saved the unzipped\n",
    "FOLDERNAME = 'EE364B/'\n",
    "assert FOLDERNAME is not None, \"[!] Enter the foldername.\"\n",
    "\n",
    "# Now that we've mounted your Drive, this ensures that\n",
    "# the Python interpreter of the Colab VM can load\n",
    "# python files from within it.\n",
    "import sys\n",
    "sys.path.append('/content/drive/My Drive/{}'.format(FOLDERNAME))\n",
    "sys.path.append('/content/drive/My Drive/{}'.format(FOLDERNAME) + '/tests')"
   ]
  },
  {
   "cell_type": "code",
   "execution_count": null,
   "metadata": {
    "id": "W0ayPLgLGNGk"
   },
   "outputs": [],
   "source": [
    "%load_ext autoreload\n",
    "%autoreload 2\n",
    "\n",
    "import numpy as np\n",
    "import matplotlib.pyplot as plt\n",
    "from LPSolver import LPSolver\n",
    "import cvxpy as cp\n",
    "from performanceTest import parse_mps_list, get_file_names, test_on_mps_data\n",
    "from pysmps.smps_loader import load_mps\n",
    "from time import time"
   ]
  },
  {
   "cell_type": "code",
   "execution_count": null,
   "metadata": {
    "id": "qKSz5m9lGVkl"
   },
   "outputs": [],
   "source": [
    "DATAFOLDER = '/content/drive/My Drive/{}'.format(FOLDERNAME) + '/tests/data/'\n",
    "# cvxpy_times, ls_gpu_times, ls_cpu_times, datafiles = test_on_mps_data(DATAFOLDER)\n",
    "files = get_file_names(DATAFOLDER)"
   ]
  },
  {
   "cell_type": "code",
   "execution_count": null,
   "metadata": {
    "colab": {
     "base_uri": "https://localhost:8080/"
    },
    "executionInfo": {
     "elapsed": 5,
     "status": "ok",
     "timestamp": 1717090734809,
     "user": {
      "displayName": "Emanuel Herberthson",
      "userId": "02582733674716630226"
     },
     "user_tz": 420
    },
    "id": "PJegeFbJMTFy",
    "outputId": "b09d522f-6f84-4d2a-e6e9-def52f7b1ad8"
   },
   "outputs": [
    {
     "data": {
      "text/plain": [
       "['bnatt350.mps',\n",
       " 'iis-bupa-cov.mps',\n",
       " 'iis-pima-cov.mps',\n",
       " 'acc-tight5.mps',\n",
       " 'beasleyC3.mps',\n",
       " 'bienst2.mps',\n",
       " '30n20b8.mps',\n",
       " 'aflow40b.mps',\n",
       " '.ipynb_checkpoints']"
      ]
     },
     "execution_count": 5,
     "metadata": {},
     "output_type": "execute_result"
    }
   ],
   "source": [
    "files"
   ]
  },
  {
   "cell_type": "code",
   "execution_count": null,
   "metadata": {
    "colab": {
     "base_uri": "https://localhost:8080/"
    },
    "executionInfo": {
     "elapsed": 382,
     "status": "ok",
     "timestamp": 1717090735187,
     "user": {
      "displayName": "Emanuel Herberthson",
      "userId": "02582733674716630226"
     },
     "user_tz": 420
    },
    "id": "FwRR5dEmR4_O",
    "outputId": "e0e8267f-0275-4a4e-b8c7-8025e262518d"
   },
   "outputs": [
    {
     "name": "stdout",
     "output_type": "stream",
     "text": [
      "Will start to load MPS-file bienst2.mps\n",
      "Loading bienst2.mps took 0.3227815628051758 seconds\n"
     ]
    }
   ],
   "source": [
    "mps_lists = []\n",
    "\n",
    "for file in [files[0]]:\n",
    "  file = \"bienst2.mps\"\n",
    "  print(\"Will start to load MPS-file \" + file)\n",
    "\n",
    "  try:\n",
    "    tik = time()\n",
    "    mps_list = load_mps(DATAFOLDER + file)\n",
    "    tok = time()\n",
    "    print(f\"Loading {file} took {tok - tik} seconds\")\n",
    "    mps_lists.append(mps_list)\n",
    "\n",
    "  except Exception as e:\n",
    "    print(e)\n",
    "    print(f\"Could not find file {file}, on to the next\")\n",
    "    continue"
   ]
  },
  {
   "cell_type": "code",
   "execution_count": null,
   "metadata": {
    "colab": {
     "base_uri": "https://localhost:8080/"
    },
    "executionInfo": {
     "elapsed": 70395,
     "status": "ok",
     "timestamp": 1717090805580,
     "user": {
      "displayName": "Emanuel Herberthson",
      "userId": "02582733674716630226"
     },
     "user_tz": 420
    },
    "id": "_zxwdMBnJZ6_",
    "outputId": "f1658821-bef8-466b-c050-ae3a190be279"
   },
   "outputs": [
    {
     "name": "stdout",
     "output_type": "stream",
     "text": [
      "Dimension n is: 505\n",
      "Solve in CVXPY\n",
      "CVXPY solved 0 time(s)\n",
      "Problem is optimal\n",
      "CVXPY solved 1 time(s)\n",
      "Problem is optimal\n",
      "CVXPY solved 2 time(s)\n",
      "Problem is optimal\n",
      "LP-solver, GPU\n",
      "LP-solver, GPU solved 0 time(s)\n",
      "LP-solver, GPU solved 1 time(s)\n",
      "LP-solver, GPU solved 2 time(s)\n",
      "LP-solver, CPU\n",
      "LP-solver, CPU solved 0 time(s)\n",
      "LP-solver, CPU solved 1 time(s)\n",
      "LP-solver, CPU solved 2 time(s)\n",
      "Results for file bienst2.mps\n",
      "CVXPY average time: 0.02830163637797038\n",
      "LS GPU average time: 14.007461706797281\n",
      "LS CPU average time: 9.081709941228231\n",
      "\n",
      "\n"
     ]
    }
   ],
   "source": [
    "cvxpy_times = []\n",
    "ls_gpu_times = []\n",
    "ls_cpu_times = []\n",
    "used_n_values = []\n",
    "\n",
    "for mps_list in mps_lists:\n",
    "\n",
    "  c, A, b, C, d, up_bnd, lo_bnd, n = parse_mps_list(mps_list)\n",
    "\n",
    "  print(f\"Dimension n is: {n}\")\n",
    "  used_n_values.append(n)\n",
    "\n",
    "  if up_bnd is not None:\n",
    "    up_mask_inf = (up_bnd == np.inf)\n",
    "    up_mask = (up_bnd != np.inf)\n",
    "    up_bnd[up_mask_inf] = 1e9\n",
    "  if lo_bnd is not None:\n",
    "    lo_mask_inf = (lo_bnd == -np.inf)\n",
    "    lo_mask = (lo_bnd != -np.inf)\n",
    "    lo_bnd[lo_mask_inf] = -1e9\n",
    "\n",
    "  print(\"Solve in CVXPY\")\n",
    "  total_cvxpy_time = 0\n",
    "  for k in range(3):\n",
    "\n",
    "    # Solve in CVXPY\n",
    "    x = cp.Variable(n)\n",
    "\n",
    "    # Objective\n",
    "    obj = c @ x\n",
    "\n",
    "    # Constraints\n",
    "    constr = []\n",
    "\n",
    "    if A is not None:\n",
    "      constr.append(A @ x == b)\n",
    "    if C is not None:\n",
    "      constr.append(C @ x <= d)\n",
    "    if lo_bnd is not None:\n",
    "      constr.append(x >= lo_bnd)\n",
    "    if up_bnd is not None:\n",
    "      constr.append(x <= up_bnd)\n",
    "\n",
    "    # Create problem\n",
    "    prob = cp.Problem(cp.Minimize(obj), constr)\n",
    "\n",
    "    # Solve\n",
    "    tik = time()\n",
    "    prob.solve(solver = cp.CLARABEL)\n",
    "    print(f\"CVXPY solved {k} time(s)\")\n",
    "    tok = time()\n",
    "\n",
    "    total_cvxpy_time += tok - tik\n",
    "\n",
    "    print(f\"Problem is {prob.status}\")\n",
    "\n",
    "    del x\n",
    "    del constr\n",
    "    del prob\n",
    "\n",
    "  cvxpy_time = (total_cvxpy_time) / 3\n",
    "  cvxpy_times.append(cvxpy_time)\n",
    "\n",
    "  print(\"LP-solver, GPU\")\n",
    "  total_ls_gpu_time = 0\n",
    "\n",
    "  for k in range(3):\n",
    "    ls_gpu = LPSolver(\n",
    "        c = c,\n",
    "        A = A,\n",
    "        b = b,\n",
    "        C = C,\n",
    "        d = d,\n",
    "        lower_bound = lo_bnd,\n",
    "        upper_bound = up_bnd,\n",
    "        use_gpu = True,\n",
    "        suppress_print = True\n",
    "    )\n",
    "\n",
    "    tik = time()\n",
    "    ls_gpu.solve()\n",
    "    print(f\"LP-solver, GPU solved {k} time(s)\")\n",
    "    tok = time()\n",
    "    total_ls_gpu_time += tok - tik\n",
    "    del ls_gpu\n",
    "\n",
    "  ls_gpu_time = total_ls_gpu_time / 3\n",
    "  ls_gpu_times.append(ls_gpu_time)\n",
    "\n",
    "  print(\"LP-solver, CPU\")\n",
    "  total_ls_cpu_time = 0\n",
    "\n",
    "  for k in range(3):\n",
    "    ls_cpu = LPSolver(\n",
    "        c = c,\n",
    "        A = A,\n",
    "        b = b,\n",
    "        C = C,\n",
    "        d = d,\n",
    "        lower_bound = lo_bnd,\n",
    "        upper_bound = up_bnd,\n",
    "        use_gpu = False,\n",
    "        suppress_print = True\n",
    "    )\n",
    "\n",
    "    tik = time()\n",
    "    ls_cpu.solve()\n",
    "    print(f\"LP-solver, CPU solved {k} time(s)\")\n",
    "    tok = time()\n",
    "    total_ls_cpu_time += tok - tik\n",
    "    del ls_cpu\n",
    "\n",
    "  ls_cpu_time = total_ls_cpu_time / 3\n",
    "  ls_cpu_times.append(ls_cpu_time)\n",
    "\n",
    "  print(f\"Results for file {file}\")\n",
    "  print(f\"CVXPY average time: {cvxpy_time}\")\n",
    "  print(f\"LS GPU average time: {ls_gpu_time}\")\n",
    "  print(f\"LS CPU average time: {ls_cpu_time}\")\n",
    "  print(\"\\n\")"
   ]
  },
  {
   "cell_type": "code",
   "execution_count": null,
   "metadata": {
    "id": "sYw9MaedSsoc"
   },
   "outputs": [],
   "source": [
    "# Blown out of the water by CVXPY. Sparse matrix kills it"
   ]
  },
  {
   "cell_type": "code",
   "execution_count": null,
   "metadata": {
    "colab": {
     "base_uri": "https://localhost:8080/"
    },
    "executionInfo": {
     "elapsed": 3263131,
     "status": "ok",
     "timestamp": 1717094068708,
     "user": {
      "displayName": "Emanuel Herberthson",
      "userId": "02582733674716630226"
     },
     "user_tz": 420
    },
    "id": "8ywWbUeLgfE6",
    "outputId": "bbdae1be-e94c-4366-b800-883ab508bf8e"
   },
   "outputs": [
    {
     "name": "stdout",
     "output_type": "stream",
     "text": [
      "n is 100\n",
      "Generate some data\n",
      "Solve in CVXPY\n",
      "CVXPY solved 0 time(s)\n",
      "Problem is optimal\n",
      "CVXPY solved 1 time(s)\n",
      "Problem is optimal\n",
      "CVXPY solved 2 time(s)\n",
      "Problem is optimal\n",
      "LP-solver, GPU\n",
      "LP-solver, GPU solved 0 time(s)\n",
      "LP-solver, GPU solved 1 time(s)\n",
      "LP-solver, GPU solved 2 time(s)\n",
      "LP-solver, CPU\n",
      "LP-solver, CPU solved 0 time(s)\n",
      "LP-solver, CPU solved 1 time(s)\n",
      "LP-solver, CPU solved 2 time(s)\n",
      "Results for n = 100\n",
      "CVXPY average time: 0.03304704030354818\n",
      "LS GPU average time: 2.447383483250936\n",
      "LS CPU average time: 0.3091271718343099\n",
      "\n",
      "\n",
      "n is 500\n",
      "Generate some data\n",
      "Solve in CVXPY\n",
      "CVXPY solved 0 time(s)\n",
      "Problem is optimal\n",
      "CVXPY solved 1 time(s)\n",
      "Problem is optimal\n",
      "CVXPY solved 2 time(s)\n",
      "Problem is optimal\n",
      "LP-solver, GPU\n",
      "LP-solver, GPU solved 0 time(s)\n",
      "LP-solver, GPU solved 1 time(s)\n",
      "LP-solver, GPU solved 2 time(s)\n",
      "LP-solver, CPU\n",
      "LP-solver, CPU solved 0 time(s)\n",
      "LP-solver, CPU solved 1 time(s)\n",
      "LP-solver, CPU solved 2 time(s)\n",
      "Results for n = 500\n",
      "CVXPY average time: 2.3835979302724204\n",
      "LS GPU average time: 5.03038493792216\n",
      "LS CPU average time: 3.8650670051574707\n",
      "\n",
      "\n",
      "n is 1000\n",
      "Generate some data\n",
      "Solve in CVXPY\n",
      "CVXPY solved 0 time(s)\n",
      "Problem is optimal\n",
      "CVXPY solved 1 time(s)\n",
      "Problem is optimal\n",
      "CVXPY solved 2 time(s)\n",
      "Problem is optimal\n",
      "LP-solver, GPU\n",
      "LP-solver, GPU solved 0 time(s)\n",
      "LP-solver, GPU solved 1 time(s)\n",
      "LP-solver, GPU solved 2 time(s)\n",
      "LP-solver, CPU\n",
      "LP-solver, CPU solved 0 time(s)\n",
      "LP-solver, CPU solved 1 time(s)\n",
      "LP-solver, CPU solved 2 time(s)\n",
      "Results for n = 1000\n",
      "CVXPY average time: 16.64044197400411\n",
      "LS GPU average time: 17.538308540980022\n",
      "LS CPU average time: 25.577720085779827\n",
      "\n",
      "\n",
      "n is 2000\n",
      "Generate some data\n",
      "Solve in CVXPY\n",
      "CVXPY solved 0 time(s)\n",
      "Problem is optimal\n",
      "CVXPY solved 1 time(s)\n",
      "Problem is optimal\n",
      "CVXPY solved 2 time(s)\n",
      "Problem is optimal\n",
      "LP-solver, GPU\n",
      "LP-solver, GPU solved 0 time(s)\n",
      "LP-solver, GPU solved 1 time(s)\n",
      "LP-solver, GPU solved 2 time(s)\n",
      "LP-solver, CPU\n",
      "LP-solver, CPU solved 0 time(s)\n",
      "LP-solver, CPU solved 1 time(s)\n",
      "LP-solver, CPU solved 2 time(s)\n",
      "Results for n = 2000\n",
      "CVXPY average time: 232.35090923309326\n",
      "LS GPU average time: 91.77346483866374\n",
      "LS CPU average time: 191.94537933667502\n",
      "\n",
      "\n"
     ]
    }
   ],
   "source": [
    "# Generate random, dense data and compare\n",
    "np.random.seed(1)\n",
    "n_values = [100, 500, 1000, 2000, 3000]\n",
    "m_values = [80, 400, 800, 1600, 2400]\n",
    "k_values = [20, 100, 200, 400, 600]\n",
    "\n",
    "cvxpy_times_random = []\n",
    "ls_gpu_times_random = []\n",
    "ls_cpu_times_random = []\n",
    "\n",
    "for n, m, k in zip(n_values, m_values, k_values):\n",
    "  print(f\"n is {n}\")\n",
    "  print(\"Generate some data\")\n",
    "  # Generate A\n",
    "  A = np.random.uniform(low = -2, high = 2, size = (m, n))\n",
    "\n",
    "  # Generate C\n",
    "  C = np.random.uniform(low = -2, high = 2, size = (k, n))\n",
    "\n",
    "  # Generate x_feas and c\n",
    "  x_feas = np.random.uniform(low = -2, high = 2, size = (n))\n",
    "  c = np.random.uniform(low = -2, high = 2, size = (n))\n",
    "\n",
    "  # From this, calculate b and d\n",
    "  b = A @ x_feas\n",
    "  d = C @ x_feas\n",
    "\n",
    "  # Have upper and lower bounds\n",
    "  up_bnd = 3\n",
    "  lo_bnd = -3\n",
    "\n",
    "  # Create CVXPY problem\n",
    "  print(\"Solve in CVXPY\")\n",
    "  total_cvxpy_time = 0\n",
    "  for k in range(3):\n",
    "\n",
    "    # Solve in CVXPY\n",
    "    x = cp.Variable(n)\n",
    "\n",
    "    # Objective\n",
    "    obj = c @ x\n",
    "\n",
    "    # Constraints\n",
    "    constr = [A @ x == b, C @ x <= d, lo_bnd <= x, x <= up_bnd]\n",
    "\n",
    "    # Create problem\n",
    "    prob = cp.Problem(cp.Minimize(obj), constr)\n",
    "\n",
    "    # Solve\n",
    "    tik = time()\n",
    "    prob.solve(solver = cp.CLARABEL)\n",
    "    print(f\"CVXPY solved {k} time(s)\")\n",
    "    tok = time()\n",
    "\n",
    "    total_cvxpy_time += tok - tik\n",
    "\n",
    "\n",
    "    del x\n",
    "    del constr\n",
    "    del prob\n",
    "\n",
    "  print(f\"Problem is {prob.status}\")\n",
    "  print(f\"CVXPY gets optimal value of {obj.value}\")\n",
    "\n",
    "  cvxpy_time = total_cvxpy_time / 3\n",
    "  cvxpy_times_random.append(cvxpy_time)\n",
    "\n",
    "  print(\"LP-solver, GPU\")\n",
    "  total_ls_gpu_time = 0\n",
    "\n",
    "  for k in range(3):\n",
    "    ls_gpu = LPSolver(\n",
    "        c = c,\n",
    "        A = A,\n",
    "        b = b,\n",
    "        C = C,\n",
    "        d = d,\n",
    "        lower_bound = lo_bnd,\n",
    "        upper_bound = up_bnd,\n",
    "        use_gpu = True,\n",
    "        suppress_print = True\n",
    "    )\n",
    "\n",
    "    tik = time()\n",
    "    ls_gpu.solve()\n",
    "    print(f\"LP-solver, GPU solved {k} time(s)\")\n",
    "    tok = time()\n",
    "    total_ls_gpu_time += tok - tik\n",
    "    del ls_gpu\n",
    "\n",
    "  ls_gpu_time = total_ls_gpu_time / 3\n",
    "  ls_gpu_times_random.append(ls_gpu_time)\n",
    "\n",
    "  print(\"LP-solver, CPU\")\n",
    "  total_ls_cpu_time = 0\n",
    "\n",
    "  for k in range(3):\n",
    "    ls_cpu = LPSolver(\n",
    "        c = c,\n",
    "        A = A,\n",
    "        b = b,\n",
    "        C = C,\n",
    "        d = d,\n",
    "        lower_bound = lo_bnd,\n",
    "        upper_bound = up_bnd,\n",
    "        use_gpu = False,\n",
    "        suppress_print = True\n",
    "    )\n",
    "\n",
    "    tik = time()\n",
    "    ls_cpu.solve()\n",
    "    print(f\"LP-solver, CPU solved {k} time(s)\")\n",
    "    tok = time()\n",
    "    total_ls_cpu_time += tok - tik\n",
    "    del ls_cpu\n",
    "\n",
    "  ls_cpu_time = total_ls_cpu_time / 3\n",
    "  ls_cpu_times_random.append(ls_cpu_time)\n",
    "\n",
    "  print(f\"Results for n = {n}\")\n",
    "  print(f\"CVXPY average time: {cvxpy_time}\")\n",
    "  print(f\"LS GPU average time: {ls_gpu_time}\")\n",
    "  print(f\"LS CPU average time: {ls_cpu_time}\")\n",
    "  print(\"\\n\")"
   ]
  },
  {
   "cell_type": "code",
   "execution_count": null,
   "metadata": {
    "colab": {
     "base_uri": "https://localhost:8080/"
    },
    "executionInfo": {
     "elapsed": 152,
     "status": "ok",
     "timestamp": 1717095592270,
     "user": {
      "displayName": "Emanuel Herberthson",
      "userId": "02582733674716630226"
     },
     "user_tz": 420
    },
    "id": "Low6s7TR3sae",
    "outputId": "45bf755b-d7ef-49f8-ecca-6c07814c3c73"
   },
   "outputs": [
    {
     "name": "stdout",
     "output_type": "stream",
     "text": [
      "[0.03304704030354818, 2.3835979302724204, 16.64044197400411, 232.35090923309326]\n",
      "[2.447383483250936, 5.03038493792216, 17.538308540980022, 91.77346483866374]\n",
      "[0.3091271718343099, 3.8650670051574707, 25.577720085779827, 191.94537933667502]\n"
     ]
    }
   ],
   "source": [
    "print(cvxpy_times_random)\n",
    "print(ls_gpu_times_random)\n",
    "print(ls_cpu_times_random)"
   ]
  },
  {
   "cell_type": "code",
   "execution_count": null,
   "metadata": {
    "id": "8ImlBEvL35YJ"
   },
   "outputs": [],
   "source": [
    "# T4 GPU\n",
    "# cvxpy_times_random = [0.03304704030354818, 2.3835979302724204, 16.64044197400411, 232.35090923309326]\n",
    "# ls_gpu_times_random = [2.447383483250936, 5.03038493792216, 17.538308540980022, 91.77346483866374]\n",
    "# ls_cpu_times_random = [0.3091271718343099, 3.8650670051574707, 25.577720085779827, 191.94537933667502]"
   ]
  }
 ],
 "metadata": {
  "accelerator": "GPU",
  "colab": {
   "authorship_tag": "ABX9TyPOSB7fCgljthNQf3djPUJB",
   "gpuType": "L4",
   "provenance": []
  },
  "kernelspec": {
   "display_name": "Python 3 (ipykernel)",
   "language": "python",
   "name": "python3"
  },
  "language_info": {
   "codemirror_mode": {
    "name": "ipython",
    "version": 3
   },
   "file_extension": ".py",
   "mimetype": "text/x-python",
   "name": "python",
   "nbconvert_exporter": "python",
   "pygments_lexer": "ipython3",
   "version": "3.9.0"
  }
 },
 "nbformat": 4,
 "nbformat_minor": 1
}
